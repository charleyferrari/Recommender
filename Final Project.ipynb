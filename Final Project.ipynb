{
 "cells": [
  {
   "cell_type": "markdown",
   "metadata": {},
   "source": [
    "# Final Project: Yelp Location Based Recommender\n",
    "## Charley Ferrari\n",
    "## Data 643"
   ]
  },
  {
   "cell_type": "code",
   "execution_count": 1,
   "metadata": {
    "collapsed": true
   },
   "outputs": [],
   "source": [
    "from pyspark import  SparkContext\n",
    "import numpy as np\n",
    "import json\n",
    "import hashlib\n",
    "from pyspark.sql import Row\n",
    "from pyspark.sql.functions import lit, col\n",
    "from pyspark.mllib.recommendation import ALS, MatrixFactorizationModel, Rating\n",
    "from pyspark.sql import SQLContext\n",
    "\n",
    "CLUSTER_URL = open('/root/spark-ec2/cluster-url').read().strip()\n",
    "sc = SparkContext( CLUSTER_URL, 'pyspark')\n",
    "\n",
    "\n",
    "sqlContext = SQLContext(sc)"
   ]
  },
  {
   "cell_type": "markdown",
   "metadata": {},
   "source": [
    "This project will look at the <a href=\"https://www.yelp.com/dataset_challenge/\">Yelp Academic Dataset</a>. This dataset contains a large set of reviews, user interactions, and business information. This data is available in json format, in user, business, and review jsons. Review jsons include a number of stars, along with a user and business, so the first part of the recommender will be based on this."
   ]
  },
  {
   "cell_type": "code",
   "execution_count": 5,
   "metadata": {
    "collapsed": false
   },
   "outputs": [],
   "source": [
    "reviews = sqlContext.read.json(\"/yelp_academic_dataset_review.json\")"
   ]
  },
  {
   "cell_type": "markdown",
   "metadata": {},
   "source": [
    "I will be using the ALS collaborative algorithm from Spark mllib to predict restaurants for users. There will be some initial cleaning needed to get things working. First, the mllib Rating objects require users and items to be ints, so I will use the zipWithUniqueId function to acheive this. \n",
    "\n",
    "After initial attempts trying to create unique ints with hashes, I found <a href=\"https://github.com/LukeTillman/killrvideo-csharp/blob/master/data/spark/recommendations_pipeline.py\">this</a> example and used their approach of creating separate ID tables to join with the original dataset."
   ]
  },
  {
   "cell_type": "code",
   "execution_count": 9,
   "metadata": {
    "collapsed": false
   },
   "outputs": [],
   "source": [
    "user_ids = reviews.select(\"user_id\").distinct().rdd.zipWithUniqueId()\n",
    "user_map = user_ids.map(lambda (x, y): Row(user_id=x.user_id, userid_int=y)).toDF().cache()\n",
    "\n",
    "business_ids = reviews.select(\"business_id\").distinct().rdd.zipWithUniqueId()\n",
    "business_map = business_ids.map(lambda (x, y): Row(business_id=x.business_id, businessid_int=y)).toDF().cache()\n",
    "\n",
    "review_id = reviews.join(user_map, 'user_id').\\\n",
    "                    join(business_map, 'business_id')\n",
    "    \n",
    "yelp_ratings = review_id.map(lambda l: Rating(l.userid_int, l.businessid_int, l.stars))"
   ]
  },
  {
   "cell_type": "markdown",
   "metadata": {},
   "source": [
    "Next, I will be able to run my ALS algorithm:"
   ]
  },
  {
   "cell_type": "code",
   "execution_count": 48,
   "metadata": {
    "collapsed": false
   },
   "outputs": [],
   "source": [
    "rank = 10\n",
    "numIterations = 10\n",
    "model = ALS.train(yelp_ratings, rank, numIterations)"
   ]
  },
  {
   "cell_type": "markdown",
   "metadata": {},
   "source": [
    "The first step of my recommendation will just predict rankings for a given user, but the second step will take location into account. So, I will create a set of restaurants to predict based on a user. The below steps will select a portion of the dataset that includes restaurants not visited by this user, so their scores may be predicted and ranked. For this test I am using userID 387400"
   ]
  },
  {
   "cell_type": "code",
   "execution_count": 154,
   "metadata": {
    "collapsed": true
   },
   "outputs": [],
   "source": [
    "reviewsL = review_id.filter(review_id['userid_int'] != 387400)\n",
    "reviewsR = review_id.filter(review_id['userid_int'] == 387400).select('businessid_int')\n",
    "\n",
    "filt2 = reviewsL.join(reviewsR, 'businessid_int', 'left_outer')\n",
    "\n",
    "filt3 = filt2.select('businessid_int').distinct().withColumn('userid_int', lit(387400))\n",
    "\n",
    "testratings = filt3.map(lambda l: (l.userid_int, l.businessid_int))\n",
    "\n",
    "predictions = model.predictAll(testratings).map(lambda r: ((r[0], r[1]), r[2]))\n",
    "\n",
    "predictionsDF = predictions.map(lambda l: Row(userid_int = l[0][0], businessid_int = l[0][1], pred_stars = l[1])).toDF()\n",
    "\n",
    "predictionsDF = predictionsDF.join(business_map, 'businessid_int')"
   ]
  },
  {
   "cell_type": "markdown",
   "metadata": {},
   "source": [
    "With this dataframe created, I could take into account location. To truly hone this I would probably need to measure distance in a way other than degrees of longitude and latitude, but for the time being I'll define a range of longitudes and latitudes to look at. For this portion, I'll bring in the businesses json, and select out the longitude and latitude of the businesses.\n",
    "\n",
    "The yelp dataset includes a large amount of (sometimes sporadic and specific to certain types of businesses) data, as seen in the below schema."
   ]
  },
  {
   "cell_type": "code",
   "execution_count": 151,
   "metadata": {
    "collapsed": false
   },
   "outputs": [
    {
     "name": "stdout",
     "output_type": "stream",
     "text": [
      "root\n",
      " |-- attributes: struct (nullable = true)\n",
      " |    |-- Accepts Credit Cards: boolean (nullable = true)\n",
      " |    |-- Accepts Insurance: boolean (nullable = true)\n",
      " |    |-- Ages Allowed: string (nullable = true)\n",
      " |    |-- Alcohol: string (nullable = true)\n",
      " |    |-- Ambience: struct (nullable = true)\n",
      " |    |    |-- casual: boolean (nullable = true)\n",
      " |    |    |-- classy: boolean (nullable = true)\n",
      " |    |    |-- divey: boolean (nullable = true)\n",
      " |    |    |-- hipster: boolean (nullable = true)\n",
      " |    |    |-- intimate: boolean (nullable = true)\n",
      " |    |    |-- romantic: boolean (nullable = true)\n",
      " |    |    |-- touristy: boolean (nullable = true)\n",
      " |    |    |-- trendy: boolean (nullable = true)\n",
      " |    |    |-- upscale: boolean (nullable = true)\n",
      " |    |-- Attire: string (nullable = true)\n",
      " |    |-- BYOB: boolean (nullable = true)\n",
      " |    |-- BYOB/Corkage: string (nullable = true)\n",
      " |    |-- By Appointment Only: boolean (nullable = true)\n",
      " |    |-- Caters: boolean (nullable = true)\n",
      " |    |-- Coat Check: boolean (nullable = true)\n",
      " |    |-- Corkage: boolean (nullable = true)\n",
      " |    |-- Delivery: boolean (nullable = true)\n",
      " |    |-- Dietary Restrictions: struct (nullable = true)\n",
      " |    |    |-- dairy-free: boolean (nullable = true)\n",
      " |    |    |-- gluten-free: boolean (nullable = true)\n",
      " |    |    |-- halal: boolean (nullable = true)\n",
      " |    |    |-- kosher: boolean (nullable = true)\n",
      " |    |    |-- soy-free: boolean (nullable = true)\n",
      " |    |    |-- vegan: boolean (nullable = true)\n",
      " |    |    |-- vegetarian: boolean (nullable = true)\n",
      " |    |-- Dogs Allowed: boolean (nullable = true)\n",
      " |    |-- Drive-Thru: boolean (nullable = true)\n",
      " |    |-- Good For: struct (nullable = true)\n",
      " |    |    |-- breakfast: boolean (nullable = true)\n",
      " |    |    |-- brunch: boolean (nullable = true)\n",
      " |    |    |-- dessert: boolean (nullable = true)\n",
      " |    |    |-- dinner: boolean (nullable = true)\n",
      " |    |    |-- latenight: boolean (nullable = true)\n",
      " |    |    |-- lunch: boolean (nullable = true)\n",
      " |    |-- Good For Dancing: boolean (nullable = true)\n",
      " |    |-- Good For Groups: boolean (nullable = true)\n",
      " |    |-- Good for Kids: boolean (nullable = true)\n",
      " |    |-- Hair Types Specialized In: struct (nullable = true)\n",
      " |    |    |-- africanamerican: boolean (nullable = true)\n",
      " |    |    |-- asian: boolean (nullable = true)\n",
      " |    |    |-- coloring: boolean (nullable = true)\n",
      " |    |    |-- curly: boolean (nullable = true)\n",
      " |    |    |-- extensions: boolean (nullable = true)\n",
      " |    |    |-- kids: boolean (nullable = true)\n",
      " |    |    |-- perms: boolean (nullable = true)\n",
      " |    |    |-- straightperms: boolean (nullable = true)\n",
      " |    |-- Happy Hour: boolean (nullable = true)\n",
      " |    |-- Has TV: boolean (nullable = true)\n",
      " |    |-- Music: struct (nullable = true)\n",
      " |    |    |-- background_music: boolean (nullable = true)\n",
      " |    |    |-- dj: boolean (nullable = true)\n",
      " |    |    |-- jukebox: boolean (nullable = true)\n",
      " |    |    |-- karaoke: boolean (nullable = true)\n",
      " |    |    |-- live: boolean (nullable = true)\n",
      " |    |    |-- video: boolean (nullable = true)\n",
      " |    |-- Noise Level: string (nullable = true)\n",
      " |    |-- Open 24 Hours: boolean (nullable = true)\n",
      " |    |-- Order at Counter: boolean (nullable = true)\n",
      " |    |-- Outdoor Seating: boolean (nullable = true)\n",
      " |    |-- Parking: struct (nullable = true)\n",
      " |    |    |-- garage: boolean (nullable = true)\n",
      " |    |    |-- lot: boolean (nullable = true)\n",
      " |    |    |-- street: boolean (nullable = true)\n",
      " |    |    |-- valet: boolean (nullable = true)\n",
      " |    |    |-- validated: boolean (nullable = true)\n",
      " |    |-- Price Range: long (nullable = true)\n",
      " |    |-- Smoking: string (nullable = true)\n",
      " |    |-- Take-out: boolean (nullable = true)\n",
      " |    |-- Takes Reservations: boolean (nullable = true)\n",
      " |    |-- Waiter Service: boolean (nullable = true)\n",
      " |    |-- Wheelchair Accessible: boolean (nullable = true)\n",
      " |    |-- Wi-Fi: string (nullable = true)\n",
      " |-- business_id: string (nullable = true)\n",
      " |-- categories: array (nullable = true)\n",
      " |    |-- element: string (containsNull = true)\n",
      " |-- city: string (nullable = true)\n",
      " |-- full_address: string (nullable = true)\n",
      " |-- hours: struct (nullable = true)\n",
      " |    |-- Friday: struct (nullable = true)\n",
      " |    |    |-- close: string (nullable = true)\n",
      " |    |    |-- open: string (nullable = true)\n",
      " |    |-- Monday: struct (nullable = true)\n",
      " |    |    |-- close: string (nullable = true)\n",
      " |    |    |-- open: string (nullable = true)\n",
      " |    |-- Saturday: struct (nullable = true)\n",
      " |    |    |-- close: string (nullable = true)\n",
      " |    |    |-- open: string (nullable = true)\n",
      " |    |-- Sunday: struct (nullable = true)\n",
      " |    |    |-- close: string (nullable = true)\n",
      " |    |    |-- open: string (nullable = true)\n",
      " |    |-- Thursday: struct (nullable = true)\n",
      " |    |    |-- close: string (nullable = true)\n",
      " |    |    |-- open: string (nullable = true)\n",
      " |    |-- Tuesday: struct (nullable = true)\n",
      " |    |    |-- close: string (nullable = true)\n",
      " |    |    |-- open: string (nullable = true)\n",
      " |    |-- Wednesday: struct (nullable = true)\n",
      " |    |    |-- close: string (nullable = true)\n",
      " |    |    |-- open: string (nullable = true)\n",
      " |-- latitude: double (nullable = true)\n",
      " |-- longitude: double (nullable = true)\n",
      " |-- name: string (nullable = true)\n",
      " |-- neighborhoods: array (nullable = true)\n",
      " |    |-- element: string (containsNull = true)\n",
      " |-- open: boolean (nullable = true)\n",
      " |-- review_count: long (nullable = true)\n",
      " |-- stars: double (nullable = true)\n",
      " |-- state: string (nullable = true)\n",
      " |-- type: string (nullable = true)\n",
      "\n"
     ]
    }
   ],
   "source": [
    "businesses = sqlContext.read.json(\"/yelp_academic_dataset_business.json\")\n",
    "businesses.printSchema()"
   ]
  },
  {
   "cell_type": "code",
   "execution_count": 163,
   "metadata": {
    "collapsed": false
   },
   "outputs": [],
   "source": [
    "businesses = sqlContext.read.json(\"/yelp_academic_dataset_business.json\").\\\n",
    "    select('latitude','longitude', 'business_id','name')"
   ]
  },
  {
   "cell_type": "markdown",
   "metadata": {
    "collapsed": true
   },
   "source": [
    "Once I've brought in the business information, my next step will be to filter them within the zone I have chosen:"
   ]
  },
  {
   "cell_type": "code",
   "execution_count": 164,
   "metadata": {
    "collapsed": false
   },
   "outputs": [
    {
     "data": {
      "text/plain": [
       "10"
      ]
     },
     "execution_count": 164,
     "metadata": {},
     "output_type": "execute_result"
    }
   ],
   "source": [
    "closeby = businesses.filter(businesses['latitude'] < 40.37).filter(businesses['latitude'] > 40.35).\\\n",
    "    filter(businesses['longitude'] < -79.89).filter(businesses['longitude'] > -79.93)\n",
    "    \n",
    "closeby.count()"
   ]
  },
  {
   "cell_type": "markdown",
   "metadata": {},
   "source": [
    "Lastly, I'll join this back with my original predictions and see how this recommender would rank the businesses that are close by to this users' current location:"
   ]
  },
  {
   "cell_type": "code",
   "execution_count": 165,
   "metadata": {
    "collapsed": false
   },
   "outputs": [],
   "source": [
    "closebyrankings = predictionsDF.join(closeby, 'business_id')"
   ]
  },
  {
   "cell_type": "code",
   "execution_count": 166,
   "metadata": {
    "collapsed": false
   },
   "outputs": [
    {
     "name": "stdout",
     "output_type": "stream",
     "text": [
      "+--------------------+--------------+--------------------+----------+----------+-----------+--------------------+\n",
      "|         business_id|businessid_int|          pred_stars|userid_int|  latitude|  longitude|                name|\n",
      "+--------------------+--------------+--------------------+----------+----------+-----------+--------------------+\n",
      "|-G9mzl-6Tj_3P7Hho...|         14423|  3.2559025336199205|    387400| 40.350463|  -79.92311|              Skyvue|\n",
      "|5UmKMjUEUNdYWqANh...|         25230| -2.0717306247886764|    387400|40.3543266|-79.9007057|           Mr Hoagie|\n",
      "|Oet_iNNFm5XW9NCRr...|         40430|    -1.2880634329106|    387400|40.3565449| -79.896124| Pasquale's Pizzeria|\n",
      "|LhUCZvUbrLH-Y_2qE...|         72053|-0.46897867486092637|    387400|40.3509675|-79.9136731| Secrets Bar & Grill|\n",
      "|e4BoQqsyrguxP2Ibq...|         69862| -3.2174362816994657|    387400|40.3565449| -79.896124|   Guns Priced Right|\n",
      "|9ZqbQaYJEyZYRk-o9...|         10284| 0.11458410839293687|    387400|  40.36176|   -79.8996|         La Hacienda|\n",
      "|JnOZS5bvQypTaCW1e...|         75552|  -1.105732760044187|    387400| 40.362547| -79.907143|      Shop-n-Go Deli|\n",
      "|oMpjrR6UCZgx7cq8C...|         42553|  -2.037491545317517|    387400|  40.36972| -79.912388|          Pizza Stop|\n",
      "|816Z3Uc2jAZFHbyHr...|         54954|  -1.292897413782525|    387400|40.3687877|-79.9105045|           The Scoop|\n",
      "|nNt1Gdc3O9ZE7bcB9...|         24176|  -4.155137032732153|    387400| 40.350011|-79.9254179|Holiday Inn Expre...|\n",
      "+--------------------+--------------+--------------------+----------+----------+-----------+--------------------+\n",
      "\n"
     ]
    }
   ],
   "source": [
    "closebyrankings.show()"
   ]
  },
  {
   "cell_type": "markdown",
   "metadata": {},
   "source": [
    "## Discussion\n",
    "\n",
    "It turns out the random latitude and longitude I chose (based off of what came off from take(1)) is an industrial town a couple of miles outside of Pittsburgh. The location chosen for them was the Skyvue diner:\n",
    "\n",
    "<img src=\"https://lh3.googleusercontent.com/gJlQIM_5CDcZ8Klz8rO354_CapHyWGUTB1_GxJDi__55CG2i2bKavwx6oGlD1XyGSjc25qQVkywZ19D58fj3bsJZk-htZjEceylcnuzsPAJ9-UiILVmkvRU7auQiN35wWxxOHPiP9lXBOhjz6OPMcj6l5WS4DGan0Wo9Fc9RpD5JuBPxt5A5IKJE1QH6PaiQuFLe5ItcAWqhEx5DLSHGv4KXjesIljnd--tGbh6w2ay_ejCFK0KJOHK4fBD1ULqirc0L5Wvmsl8Ol3E0KZrF3I9B8Z0P3kiDlMBMc1Nt5cO1hdx4PxwZPMtRkTf2MOgL0aTsbYQsuz643nxN6-FdNt80imZB-pSU0ck3c1nVOPXlMih7FiVh6ejvxbsGaqFRUj3tLigZ3YoUvo8IIBJy1eC94pHq2JaIFLUZF2pAmsK5sOYEV22XIGl9ND34dU9X99lHDA8V-uioNDIpJ1zS8nllYZqu_kPU5eU29jkQ2f7nICE_fJ2yKU6pzHlgFnm_10Qw1s2BaK4Ss5iy5xrt-vlHgwuu5q_K2XU68Ke5Ui--3qUrNnjzTV62uNQgN9I8teZeW9VRvTfwVMAocewjV7teKhjZ5RM=w2294-h976-no\">\n",
    "\n",
    "In previous projects I've used time as a context, and it proved to be more complicated than something like location. For a location based service, the goal is to rank what is around you, and it's fairly easy to set a geographic bound based on how far you can walk or drive. \n",
    "\n",
    "The Yelp dataset is incredibly rich, and there are many more attributes I could choose to use in more content based filters. Once again, this may end up becoming a simpler problem. Many attributes will get chosen by a user when they are asking for recommendations: It would be rare for someone to just ask for a general recommendation from yelp. On the other hand, this restriction changes the information a recommender can go on. If a user is looking for restaurant recommendations, will their behavior in department stores affect what they're looking for? Will you end up with valuable signals (price sensitivity) or just simply noise that doesn't translate across business types?"
   ]
  },
  {
   "cell_type": "code",
   "execution_count": null,
   "metadata": {
    "collapsed": true
   },
   "outputs": [],
   "source": []
  }
 ],
 "metadata": {
  "kernelspec": {
   "display_name": "Python 2",
   "language": "python",
   "name": "python2"
  },
  "language_info": {
   "codemirror_mode": {
    "name": "ipython",
    "version": 2
   },
   "file_extension": ".py",
   "mimetype": "text/x-python",
   "name": "python",
   "nbconvert_exporter": "python",
   "pygments_lexer": "ipython2",
   "version": "2.7.10"
  }
 },
 "nbformat": 4,
 "nbformat_minor": 0
}
